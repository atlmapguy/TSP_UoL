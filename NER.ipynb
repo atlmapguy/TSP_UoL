{
  "nbformat": 4,
  "nbformat_minor": 0,
  "metadata": {
    "colab": {
      "provenance": [],
      "mount_file_id": "1E9yDCp_7RuuGzu8J61DS55_iNLcguTrE",
      "authorship_tag": "ABX9TyMuRJj88SBMd03AyYG7X5O7",
      "include_colab_link": true
    },
    "kernelspec": {
      "name": "python3",
      "display_name": "Python 3"
    },
    "language_info": {
      "name": "python"
    }
  },
  "cells": [
    {
      "cell_type": "markdown",
      "metadata": {
        "id": "view-in-github",
        "colab_type": "text"
      },
      "source": [
        "<a href=\"https://colab.research.google.com/github/atlmapguy/TSP_UoL/blob/master/NER.ipynb\" target=\"_parent\"><img src=\"https://colab.research.google.com/assets/colab-badge.svg\" alt=\"Open In Colab\"/></a>"
      ]
    },
    {
      "cell_type": "code",
      "source": [
        "pwd"
      ],
      "metadata": {
        "colab": {
          "base_uri": "https://localhost:8080/",
          "height": 36
        },
        "id": "nAFqWOf-P3b0",
        "outputId": "c41b9554-8152-47af-f3b8-9ca125a960fe"
      },
      "execution_count": 1,
      "outputs": [
        {
          "output_type": "execute_result",
          "data": {
            "text/plain": [
              "'/content'"
            ],
            "application/vnd.google.colaboratory.intrinsic+json": {
              "type": "string"
            }
          },
          "metadata": {},
          "execution_count": 1
        }
      ]
    },
    {
      "cell_type": "code",
      "source": [
        "pip install CuPy"
      ],
      "metadata": {
        "colab": {
          "base_uri": "https://localhost:8080/"
        },
        "id": "5eke1kHTdgje",
        "outputId": "9607872d-f8ee-478b-b0f0-9e09b31e5c42"
      },
      "execution_count": 2,
      "outputs": [
        {
          "output_type": "stream",
          "name": "stdout",
          "text": [
            "Collecting CuPy\n",
            "  Using cached cupy-13.1.0.tar.gz (3.5 MB)\n",
            "  Preparing metadata (setup.py) ... \u001b[?25l\u001b[?25hdone\n",
            "Requirement already satisfied: numpy<1.29,>=1.22 in /usr/local/lib/python3.10/dist-packages (from CuPy) (1.25.2)\n",
            "Requirement already satisfied: fastrlock>=0.5 in /usr/local/lib/python3.10/dist-packages (from CuPy) (0.8.2)\n",
            "Building wheels for collected packages: CuPy\n",
            "  \u001b[1;31merror\u001b[0m: \u001b[1msubprocess-exited-with-error\u001b[0m\n",
            "  \n",
            "  \u001b[31m×\u001b[0m \u001b[32mpython setup.py bdist_wheel\u001b[0m did not run successfully.\n",
            "  \u001b[31m│\u001b[0m exit code: \u001b[1;36m1\u001b[0m\n",
            "  \u001b[31m╰─>\u001b[0m See above for output.\n",
            "  \n",
            "  \u001b[1;35mnote\u001b[0m: This error originates from a subprocess, and is likely not a problem with pip.\n",
            "  Building wheel for CuPy (setup.py) ... \u001b[?25lerror\n",
            "\u001b[31m  ERROR: Failed building wheel for CuPy\u001b[0m\u001b[31m\n",
            "\u001b[0m\u001b[?25h  Running setup.py clean for CuPy\n",
            "Failed to build CuPy\n",
            "\u001b[31mERROR: Could not build wheels for CuPy, which is required to install pyproject.toml-based projects\u001b[0m\u001b[31m\n",
            "\u001b[0m"
          ]
        }
      ]
    },
    {
      "cell_type": "code",
      "source": [
        "pip install PyPDF2"
      ],
      "metadata": {
        "id": "wlr13Hpe6YHB",
        "outputId": "1aef6739-32be-4ed7-b2b7-5295e8509d14",
        "colab": {
          "base_uri": "https://localhost:8080/"
        }
      },
      "execution_count": 3,
      "outputs": [
        {
          "output_type": "stream",
          "name": "stdout",
          "text": [
            "Requirement already satisfied: PyPDF2 in /usr/local/lib/python3.10/dist-packages (3.0.1)\n"
          ]
        }
      ]
    },
    {
      "cell_type": "code",
      "source": [
        "pip install tqdm"
      ],
      "metadata": {
        "colab": {
          "base_uri": "https://localhost:8080/"
        },
        "id": "cwhdShKJaxdK",
        "outputId": "996c87b4-d095-48c7-e0f9-b3b9261b0aa9"
      },
      "execution_count": 4,
      "outputs": [
        {
          "output_type": "stream",
          "name": "stdout",
          "text": [
            "Requirement already satisfied: tqdm in /usr/local/lib/python3.10/dist-packages (4.66.4)\n"
          ]
        }
      ]
    },
    {
      "cell_type": "code",
      "source": [
        "!pip install spacy-transformers"
      ],
      "metadata": {
        "colab": {
          "base_uri": "https://localhost:8080/"
        },
        "id": "0m1NnQfKVrzJ",
        "outputId": "c1701145-9196-421d-b6a6-470421a5a907"
      },
      "execution_count": 5,
      "outputs": [
        {
          "output_type": "stream",
          "name": "stdout",
          "text": [
            "Requirement already satisfied: spacy-transformers in /usr/local/lib/python3.10/dist-packages (1.3.5)\n",
            "Requirement already satisfied: spacy<4.1.0,>=3.5.0 in /usr/local/lib/python3.10/dist-packages (from spacy-transformers) (3.7.4)\n",
            "Requirement already satisfied: transformers<4.37.0,>=3.4.0 in /usr/local/lib/python3.10/dist-packages (from spacy-transformers) (4.36.2)\n",
            "Requirement already satisfied: torch>=1.8.0 in /usr/local/lib/python3.10/dist-packages (from spacy-transformers) (2.2.1+cu121)\n",
            "Requirement already satisfied: srsly<3.0.0,>=2.4.0 in /usr/local/lib/python3.10/dist-packages (from spacy-transformers) (2.4.8)\n",
            "Requirement already satisfied: spacy-alignments<1.0.0,>=0.7.2 in /usr/local/lib/python3.10/dist-packages (from spacy-transformers) (0.9.1)\n",
            "Requirement already satisfied: numpy>=1.19.0 in /usr/local/lib/python3.10/dist-packages (from spacy-transformers) (1.25.2)\n",
            "Requirement already satisfied: spacy-legacy<3.1.0,>=3.0.11 in /usr/local/lib/python3.10/dist-packages (from spacy<4.1.0,>=3.5.0->spacy-transformers) (3.0.12)\n",
            "Requirement already satisfied: spacy-loggers<2.0.0,>=1.0.0 in /usr/local/lib/python3.10/dist-packages (from spacy<4.1.0,>=3.5.0->spacy-transformers) (1.0.5)\n",
            "Requirement already satisfied: murmurhash<1.1.0,>=0.28.0 in /usr/local/lib/python3.10/dist-packages (from spacy<4.1.0,>=3.5.0->spacy-transformers) (1.0.10)\n",
            "Requirement already satisfied: cymem<2.1.0,>=2.0.2 in /usr/local/lib/python3.10/dist-packages (from spacy<4.1.0,>=3.5.0->spacy-transformers) (2.0.8)\n",
            "Requirement already satisfied: preshed<3.1.0,>=3.0.2 in /usr/local/lib/python3.10/dist-packages (from spacy<4.1.0,>=3.5.0->spacy-transformers) (3.0.9)\n",
            "Requirement already satisfied: thinc<8.3.0,>=8.2.2 in /usr/local/lib/python3.10/dist-packages (from spacy<4.1.0,>=3.5.0->spacy-transformers) (8.2.3)\n",
            "Requirement already satisfied: wasabi<1.2.0,>=0.9.1 in /usr/local/lib/python3.10/dist-packages (from spacy<4.1.0,>=3.5.0->spacy-transformers) (1.1.2)\n",
            "Requirement already satisfied: catalogue<2.1.0,>=2.0.6 in /usr/local/lib/python3.10/dist-packages (from spacy<4.1.0,>=3.5.0->spacy-transformers) (2.0.10)\n",
            "Requirement already satisfied: weasel<0.4.0,>=0.1.0 in /usr/local/lib/python3.10/dist-packages (from spacy<4.1.0,>=3.5.0->spacy-transformers) (0.3.4)\n",
            "Requirement already satisfied: typer<0.10.0,>=0.3.0 in /usr/local/lib/python3.10/dist-packages (from spacy<4.1.0,>=3.5.0->spacy-transformers) (0.9.4)\n",
            "Requirement already satisfied: smart-open<7.0.0,>=5.2.1 in /usr/local/lib/python3.10/dist-packages (from spacy<4.1.0,>=3.5.0->spacy-transformers) (6.4.0)\n",
            "Requirement already satisfied: tqdm<5.0.0,>=4.38.0 in /usr/local/lib/python3.10/dist-packages (from spacy<4.1.0,>=3.5.0->spacy-transformers) (4.66.4)\n",
            "Requirement already satisfied: requests<3.0.0,>=2.13.0 in /usr/local/lib/python3.10/dist-packages (from spacy<4.1.0,>=3.5.0->spacy-transformers) (2.31.0)\n",
            "Requirement already satisfied: pydantic!=1.8,!=1.8.1,<3.0.0,>=1.7.4 in /usr/local/lib/python3.10/dist-packages (from spacy<4.1.0,>=3.5.0->spacy-transformers) (2.7.1)\n",
            "Requirement already satisfied: jinja2 in /usr/local/lib/python3.10/dist-packages (from spacy<4.1.0,>=3.5.0->spacy-transformers) (3.1.4)\n",
            "Requirement already satisfied: setuptools in /usr/local/lib/python3.10/dist-packages (from spacy<4.1.0,>=3.5.0->spacy-transformers) (67.7.2)\n",
            "Requirement already satisfied: packaging>=20.0 in /usr/local/lib/python3.10/dist-packages (from spacy<4.1.0,>=3.5.0->spacy-transformers) (24.0)\n",
            "Requirement already satisfied: langcodes<4.0.0,>=3.2.0 in /usr/local/lib/python3.10/dist-packages (from spacy<4.1.0,>=3.5.0->spacy-transformers) (3.4.0)\n",
            "Requirement already satisfied: filelock in /usr/local/lib/python3.10/dist-packages (from torch>=1.8.0->spacy-transformers) (3.14.0)\n",
            "Requirement already satisfied: typing-extensions>=4.8.0 in /usr/local/lib/python3.10/dist-packages (from torch>=1.8.0->spacy-transformers) (4.11.0)\n",
            "Requirement already satisfied: sympy in /usr/local/lib/python3.10/dist-packages (from torch>=1.8.0->spacy-transformers) (1.12)\n",
            "Requirement already satisfied: networkx in /usr/local/lib/python3.10/dist-packages (from torch>=1.8.0->spacy-transformers) (3.3)\n",
            "Requirement already satisfied: fsspec in /usr/local/lib/python3.10/dist-packages (from torch>=1.8.0->spacy-transformers) (2023.6.0)\n",
            "Requirement already satisfied: nvidia-cuda-nvrtc-cu12==12.1.105 in /usr/local/lib/python3.10/dist-packages (from torch>=1.8.0->spacy-transformers) (12.1.105)\n",
            "Requirement already satisfied: nvidia-cuda-runtime-cu12==12.1.105 in /usr/local/lib/python3.10/dist-packages (from torch>=1.8.0->spacy-transformers) (12.1.105)\n",
            "Requirement already satisfied: nvidia-cuda-cupti-cu12==12.1.105 in /usr/local/lib/python3.10/dist-packages (from torch>=1.8.0->spacy-transformers) (12.1.105)\n",
            "Requirement already satisfied: nvidia-cudnn-cu12==8.9.2.26 in /usr/local/lib/python3.10/dist-packages (from torch>=1.8.0->spacy-transformers) (8.9.2.26)\n",
            "Requirement already satisfied: nvidia-cublas-cu12==12.1.3.1 in /usr/local/lib/python3.10/dist-packages (from torch>=1.8.0->spacy-transformers) (12.1.3.1)\n",
            "Requirement already satisfied: nvidia-cufft-cu12==11.0.2.54 in /usr/local/lib/python3.10/dist-packages (from torch>=1.8.0->spacy-transformers) (11.0.2.54)\n",
            "Requirement already satisfied: nvidia-curand-cu12==10.3.2.106 in /usr/local/lib/python3.10/dist-packages (from torch>=1.8.0->spacy-transformers) (10.3.2.106)\n",
            "Requirement already satisfied: nvidia-cusolver-cu12==11.4.5.107 in /usr/local/lib/python3.10/dist-packages (from torch>=1.8.0->spacy-transformers) (11.4.5.107)\n",
            "Requirement already satisfied: nvidia-cusparse-cu12==12.1.0.106 in /usr/local/lib/python3.10/dist-packages (from torch>=1.8.0->spacy-transformers) (12.1.0.106)\n",
            "Requirement already satisfied: nvidia-nccl-cu12==2.19.3 in /usr/local/lib/python3.10/dist-packages (from torch>=1.8.0->spacy-transformers) (2.19.3)\n",
            "Requirement already satisfied: nvidia-nvtx-cu12==12.1.105 in /usr/local/lib/python3.10/dist-packages (from torch>=1.8.0->spacy-transformers) (12.1.105)\n",
            "Requirement already satisfied: triton==2.2.0 in /usr/local/lib/python3.10/dist-packages (from torch>=1.8.0->spacy-transformers) (2.2.0)\n",
            "Requirement already satisfied: nvidia-nvjitlink-cu12 in /usr/local/lib/python3.10/dist-packages (from nvidia-cusolver-cu12==11.4.5.107->torch>=1.8.0->spacy-transformers) (12.4.127)\n",
            "Requirement already satisfied: huggingface-hub<1.0,>=0.19.3 in /usr/local/lib/python3.10/dist-packages (from transformers<4.37.0,>=3.4.0->spacy-transformers) (0.20.3)\n",
            "Requirement already satisfied: pyyaml>=5.1 in /usr/local/lib/python3.10/dist-packages (from transformers<4.37.0,>=3.4.0->spacy-transformers) (6.0.1)\n",
            "Requirement already satisfied: regex!=2019.12.17 in /usr/local/lib/python3.10/dist-packages (from transformers<4.37.0,>=3.4.0->spacy-transformers) (2023.12.25)\n",
            "Requirement already satisfied: tokenizers<0.19,>=0.14 in /usr/local/lib/python3.10/dist-packages (from transformers<4.37.0,>=3.4.0->spacy-transformers) (0.15.2)\n",
            "Requirement already satisfied: safetensors>=0.3.1 in /usr/local/lib/python3.10/dist-packages (from transformers<4.37.0,>=3.4.0->spacy-transformers) (0.4.3)\n",
            "Requirement already satisfied: language-data>=1.2 in /usr/local/lib/python3.10/dist-packages (from langcodes<4.0.0,>=3.2.0->spacy<4.1.0,>=3.5.0->spacy-transformers) (1.2.0)\n",
            "Requirement already satisfied: annotated-types>=0.4.0 in /usr/local/lib/python3.10/dist-packages (from pydantic!=1.8,!=1.8.1,<3.0.0,>=1.7.4->spacy<4.1.0,>=3.5.0->spacy-transformers) (0.6.0)\n",
            "Requirement already satisfied: pydantic-core==2.18.2 in /usr/local/lib/python3.10/dist-packages (from pydantic!=1.8,!=1.8.1,<3.0.0,>=1.7.4->spacy<4.1.0,>=3.5.0->spacy-transformers) (2.18.2)\n",
            "Requirement already satisfied: charset-normalizer<4,>=2 in /usr/local/lib/python3.10/dist-packages (from requests<3.0.0,>=2.13.0->spacy<4.1.0,>=3.5.0->spacy-transformers) (3.3.2)\n",
            "Requirement already satisfied: idna<4,>=2.5 in /usr/local/lib/python3.10/dist-packages (from requests<3.0.0,>=2.13.0->spacy<4.1.0,>=3.5.0->spacy-transformers) (3.7)\n",
            "Requirement already satisfied: urllib3<3,>=1.21.1 in /usr/local/lib/python3.10/dist-packages (from requests<3.0.0,>=2.13.0->spacy<4.1.0,>=3.5.0->spacy-transformers) (2.0.7)\n",
            "Requirement already satisfied: certifi>=2017.4.17 in /usr/local/lib/python3.10/dist-packages (from requests<3.0.0,>=2.13.0->spacy<4.1.0,>=3.5.0->spacy-transformers) (2024.2.2)\n",
            "Requirement already satisfied: blis<0.8.0,>=0.7.8 in /usr/local/lib/python3.10/dist-packages (from thinc<8.3.0,>=8.2.2->spacy<4.1.0,>=3.5.0->spacy-transformers) (0.7.11)\n",
            "Requirement already satisfied: confection<1.0.0,>=0.0.1 in /usr/local/lib/python3.10/dist-packages (from thinc<8.3.0,>=8.2.2->spacy<4.1.0,>=3.5.0->spacy-transformers) (0.1.4)\n",
            "Requirement already satisfied: click<9.0.0,>=7.1.1 in /usr/local/lib/python3.10/dist-packages (from typer<0.10.0,>=0.3.0->spacy<4.1.0,>=3.5.0->spacy-transformers) (8.1.7)\n",
            "Requirement already satisfied: cloudpathlib<0.17.0,>=0.7.0 in /usr/local/lib/python3.10/dist-packages (from weasel<0.4.0,>=0.1.0->spacy<4.1.0,>=3.5.0->spacy-transformers) (0.16.0)\n",
            "Requirement already satisfied: MarkupSafe>=2.0 in /usr/local/lib/python3.10/dist-packages (from jinja2->spacy<4.1.0,>=3.5.0->spacy-transformers) (2.1.5)\n",
            "Requirement already satisfied: mpmath>=0.19 in /usr/local/lib/python3.10/dist-packages (from sympy->torch>=1.8.0->spacy-transformers) (1.3.0)\n",
            "Requirement already satisfied: marisa-trie>=0.7.7 in /usr/local/lib/python3.10/dist-packages (from language-data>=1.2->langcodes<4.0.0,>=3.2.0->spacy<4.1.0,>=3.5.0->spacy-transformers) (1.1.1)\n"
          ]
        }
      ]
    },
    {
      "cell_type": "code",
      "source": [
        "import os\n",
        "import PyPDF2\n",
        "\n",
        "source_folder = '/content/NER_apps/resume_dataset/pdf_format'\n",
        "combined_txt_path = '/content/NER_apps/resume_dataset/pdf_format/combined_resumes.txt'\n",
        "\n",
        "# Create a list to store text from all PDF files\n",
        "all_pdf_text = []\n",
        "\n",
        "# Loop through PDF files in the source folder\n",
        "for filename in os.listdir(source_folder):\n",
        "    if filename.endswith('.pdf'):\n",
        "        pdf_path = os.path.join(source_folder, filename)\n",
        "\n",
        "        # Extract text from PDF\n",
        "        with open(pdf_path, 'rb') as pdf_file:\n",
        "            pdf_reader = PyPDF2.PdfReader(pdf_file)\n",
        "            pdf_text = ' '.join(page.extract_text() for page in pdf_reader.pages)\n",
        "            all_pdf_text.append(pdf_text)\n",
        "\n",
        "# Combine all PDF text into a single string\n",
        "combined_text = '\\n\\n'.join(all_pdf_text)  # Adding double newline separator\n",
        "\n",
        "# Save combined text to a single TXT file\n",
        "with open(combined_txt_path, 'w', encoding='utf-8') as combined_txt_file:\n",
        "    combined_txt_file.write(combined_text)"
      ],
      "metadata": {
        "id": "o3he2ow56MPU"
      },
      "execution_count": 6,
      "outputs": []
    },
    {
      "cell_type": "code",
      "source": [
        "pip install -U spacy"
      ],
      "metadata": {
        "colab": {
          "base_uri": "https://localhost:8080/"
        },
        "id": "G8hJE9Js_fZ-",
        "outputId": "5cff3874-e36f-4b97-c303-2708487a5fcb"
      },
      "execution_count": 7,
      "outputs": [
        {
          "output_type": "stream",
          "name": "stdout",
          "text": [
            "Requirement already satisfied: spacy in /usr/local/lib/python3.10/dist-packages (3.7.4)\n",
            "Requirement already satisfied: spacy-legacy<3.1.0,>=3.0.11 in /usr/local/lib/python3.10/dist-packages (from spacy) (3.0.12)\n",
            "Requirement already satisfied: spacy-loggers<2.0.0,>=1.0.0 in /usr/local/lib/python3.10/dist-packages (from spacy) (1.0.5)\n",
            "Requirement already satisfied: murmurhash<1.1.0,>=0.28.0 in /usr/local/lib/python3.10/dist-packages (from spacy) (1.0.10)\n",
            "Requirement already satisfied: cymem<2.1.0,>=2.0.2 in /usr/local/lib/python3.10/dist-packages (from spacy) (2.0.8)\n",
            "Requirement already satisfied: preshed<3.1.0,>=3.0.2 in /usr/local/lib/python3.10/dist-packages (from spacy) (3.0.9)\n",
            "Requirement already satisfied: thinc<8.3.0,>=8.2.2 in /usr/local/lib/python3.10/dist-packages (from spacy) (8.2.3)\n",
            "Requirement already satisfied: wasabi<1.2.0,>=0.9.1 in /usr/local/lib/python3.10/dist-packages (from spacy) (1.1.2)\n",
            "Requirement already satisfied: srsly<3.0.0,>=2.4.3 in /usr/local/lib/python3.10/dist-packages (from spacy) (2.4.8)\n",
            "Requirement already satisfied: catalogue<2.1.0,>=2.0.6 in /usr/local/lib/python3.10/dist-packages (from spacy) (2.0.10)\n",
            "Requirement already satisfied: weasel<0.4.0,>=0.1.0 in /usr/local/lib/python3.10/dist-packages (from spacy) (0.3.4)\n",
            "Requirement already satisfied: typer<0.10.0,>=0.3.0 in /usr/local/lib/python3.10/dist-packages (from spacy) (0.9.4)\n",
            "Requirement already satisfied: smart-open<7.0.0,>=5.2.1 in /usr/local/lib/python3.10/dist-packages (from spacy) (6.4.0)\n",
            "Requirement already satisfied: tqdm<5.0.0,>=4.38.0 in /usr/local/lib/python3.10/dist-packages (from spacy) (4.66.4)\n",
            "Requirement already satisfied: requests<3.0.0,>=2.13.0 in /usr/local/lib/python3.10/dist-packages (from spacy) (2.31.0)\n",
            "Requirement already satisfied: pydantic!=1.8,!=1.8.1,<3.0.0,>=1.7.4 in /usr/local/lib/python3.10/dist-packages (from spacy) (2.7.1)\n",
            "Requirement already satisfied: jinja2 in /usr/local/lib/python3.10/dist-packages (from spacy) (3.1.4)\n",
            "Requirement already satisfied: setuptools in /usr/local/lib/python3.10/dist-packages (from spacy) (67.7.2)\n",
            "Requirement already satisfied: packaging>=20.0 in /usr/local/lib/python3.10/dist-packages (from spacy) (24.0)\n",
            "Requirement already satisfied: langcodes<4.0.0,>=3.2.0 in /usr/local/lib/python3.10/dist-packages (from spacy) (3.4.0)\n",
            "Requirement already satisfied: numpy>=1.19.0 in /usr/local/lib/python3.10/dist-packages (from spacy) (1.25.2)\n",
            "Requirement already satisfied: language-data>=1.2 in /usr/local/lib/python3.10/dist-packages (from langcodes<4.0.0,>=3.2.0->spacy) (1.2.0)\n",
            "Requirement already satisfied: annotated-types>=0.4.0 in /usr/local/lib/python3.10/dist-packages (from pydantic!=1.8,!=1.8.1,<3.0.0,>=1.7.4->spacy) (0.6.0)\n",
            "Requirement already satisfied: pydantic-core==2.18.2 in /usr/local/lib/python3.10/dist-packages (from pydantic!=1.8,!=1.8.1,<3.0.0,>=1.7.4->spacy) (2.18.2)\n",
            "Requirement already satisfied: typing-extensions>=4.6.1 in /usr/local/lib/python3.10/dist-packages (from pydantic!=1.8,!=1.8.1,<3.0.0,>=1.7.4->spacy) (4.11.0)\n",
            "Requirement already satisfied: charset-normalizer<4,>=2 in /usr/local/lib/python3.10/dist-packages (from requests<3.0.0,>=2.13.0->spacy) (3.3.2)\n",
            "Requirement already satisfied: idna<4,>=2.5 in /usr/local/lib/python3.10/dist-packages (from requests<3.0.0,>=2.13.0->spacy) (3.7)\n",
            "Requirement already satisfied: urllib3<3,>=1.21.1 in /usr/local/lib/python3.10/dist-packages (from requests<3.0.0,>=2.13.0->spacy) (2.0.7)\n",
            "Requirement already satisfied: certifi>=2017.4.17 in /usr/local/lib/python3.10/dist-packages (from requests<3.0.0,>=2.13.0->spacy) (2024.2.2)\n",
            "Requirement already satisfied: blis<0.8.0,>=0.7.8 in /usr/local/lib/python3.10/dist-packages (from thinc<8.3.0,>=8.2.2->spacy) (0.7.11)\n",
            "Requirement already satisfied: confection<1.0.0,>=0.0.1 in /usr/local/lib/python3.10/dist-packages (from thinc<8.3.0,>=8.2.2->spacy) (0.1.4)\n",
            "Requirement already satisfied: click<9.0.0,>=7.1.1 in /usr/local/lib/python3.10/dist-packages (from typer<0.10.0,>=0.3.0->spacy) (8.1.7)\n",
            "Requirement already satisfied: cloudpathlib<0.17.0,>=0.7.0 in /usr/local/lib/python3.10/dist-packages (from weasel<0.4.0,>=0.1.0->spacy) (0.16.0)\n",
            "Requirement already satisfied: MarkupSafe>=2.0 in /usr/local/lib/python3.10/dist-packages (from jinja2->spacy) (2.1.5)\n",
            "Requirement already satisfied: marisa-trie>=0.7.7 in /usr/local/lib/python3.10/dist-packages (from language-data>=1.2->langcodes<4.0.0,>=3.2.0->spacy) (1.1.1)\n"
          ]
        }
      ]
    },
    {
      "cell_type": "code",
      "source": [
        "pip install spacy-transformers"
      ],
      "metadata": {
        "colab": {
          "base_uri": "https://localhost:8080/"
        },
        "id": "TBQpTZ25AY9D",
        "outputId": "22218aec-3ae6-4f50-c488-109098bbb1db"
      },
      "execution_count": 8,
      "outputs": [
        {
          "output_type": "stream",
          "name": "stdout",
          "text": [
            "Requirement already satisfied: spacy-transformers in /usr/local/lib/python3.10/dist-packages (1.3.5)\n",
            "Requirement already satisfied: spacy<4.1.0,>=3.5.0 in /usr/local/lib/python3.10/dist-packages (from spacy-transformers) (3.7.4)\n",
            "Requirement already satisfied: transformers<4.37.0,>=3.4.0 in /usr/local/lib/python3.10/dist-packages (from spacy-transformers) (4.36.2)\n",
            "Requirement already satisfied: torch>=1.8.0 in /usr/local/lib/python3.10/dist-packages (from spacy-transformers) (2.2.1+cu121)\n",
            "Requirement already satisfied: srsly<3.0.0,>=2.4.0 in /usr/local/lib/python3.10/dist-packages (from spacy-transformers) (2.4.8)\n",
            "Requirement already satisfied: spacy-alignments<1.0.0,>=0.7.2 in /usr/local/lib/python3.10/dist-packages (from spacy-transformers) (0.9.1)\n",
            "Requirement already satisfied: numpy>=1.19.0 in /usr/local/lib/python3.10/dist-packages (from spacy-transformers) (1.25.2)\n",
            "Requirement already satisfied: spacy-legacy<3.1.0,>=3.0.11 in /usr/local/lib/python3.10/dist-packages (from spacy<4.1.0,>=3.5.0->spacy-transformers) (3.0.12)\n",
            "Requirement already satisfied: spacy-loggers<2.0.0,>=1.0.0 in /usr/local/lib/python3.10/dist-packages (from spacy<4.1.0,>=3.5.0->spacy-transformers) (1.0.5)\n",
            "Requirement already satisfied: murmurhash<1.1.0,>=0.28.0 in /usr/local/lib/python3.10/dist-packages (from spacy<4.1.0,>=3.5.0->spacy-transformers) (1.0.10)\n",
            "Requirement already satisfied: cymem<2.1.0,>=2.0.2 in /usr/local/lib/python3.10/dist-packages (from spacy<4.1.0,>=3.5.0->spacy-transformers) (2.0.8)\n",
            "Requirement already satisfied: preshed<3.1.0,>=3.0.2 in /usr/local/lib/python3.10/dist-packages (from spacy<4.1.0,>=3.5.0->spacy-transformers) (3.0.9)\n",
            "Requirement already satisfied: thinc<8.3.0,>=8.2.2 in /usr/local/lib/python3.10/dist-packages (from spacy<4.1.0,>=3.5.0->spacy-transformers) (8.2.3)\n",
            "Requirement already satisfied: wasabi<1.2.0,>=0.9.1 in /usr/local/lib/python3.10/dist-packages (from spacy<4.1.0,>=3.5.0->spacy-transformers) (1.1.2)\n",
            "Requirement already satisfied: catalogue<2.1.0,>=2.0.6 in /usr/local/lib/python3.10/dist-packages (from spacy<4.1.0,>=3.5.0->spacy-transformers) (2.0.10)\n",
            "Requirement already satisfied: weasel<0.4.0,>=0.1.0 in /usr/local/lib/python3.10/dist-packages (from spacy<4.1.0,>=3.5.0->spacy-transformers) (0.3.4)\n",
            "Requirement already satisfied: typer<0.10.0,>=0.3.0 in /usr/local/lib/python3.10/dist-packages (from spacy<4.1.0,>=3.5.0->spacy-transformers) (0.9.4)\n",
            "Requirement already satisfied: smart-open<7.0.0,>=5.2.1 in /usr/local/lib/python3.10/dist-packages (from spacy<4.1.0,>=3.5.0->spacy-transformers) (6.4.0)\n",
            "Requirement already satisfied: tqdm<5.0.0,>=4.38.0 in /usr/local/lib/python3.10/dist-packages (from spacy<4.1.0,>=3.5.0->spacy-transformers) (4.66.4)\n",
            "Requirement already satisfied: requests<3.0.0,>=2.13.0 in /usr/local/lib/python3.10/dist-packages (from spacy<4.1.0,>=3.5.0->spacy-transformers) (2.31.0)\n",
            "Requirement already satisfied: pydantic!=1.8,!=1.8.1,<3.0.0,>=1.7.4 in /usr/local/lib/python3.10/dist-packages (from spacy<4.1.0,>=3.5.0->spacy-transformers) (2.7.1)\n",
            "Requirement already satisfied: jinja2 in /usr/local/lib/python3.10/dist-packages (from spacy<4.1.0,>=3.5.0->spacy-transformers) (3.1.4)\n",
            "Requirement already satisfied: setuptools in /usr/local/lib/python3.10/dist-packages (from spacy<4.1.0,>=3.5.0->spacy-transformers) (67.7.2)\n",
            "Requirement already satisfied: packaging>=20.0 in /usr/local/lib/python3.10/dist-packages (from spacy<4.1.0,>=3.5.0->spacy-transformers) (24.0)\n",
            "Requirement already satisfied: langcodes<4.0.0,>=3.2.0 in /usr/local/lib/python3.10/dist-packages (from spacy<4.1.0,>=3.5.0->spacy-transformers) (3.4.0)\n",
            "Requirement already satisfied: filelock in /usr/local/lib/python3.10/dist-packages (from torch>=1.8.0->spacy-transformers) (3.14.0)\n",
            "Requirement already satisfied: typing-extensions>=4.8.0 in /usr/local/lib/python3.10/dist-packages (from torch>=1.8.0->spacy-transformers) (4.11.0)\n",
            "Requirement already satisfied: sympy in /usr/local/lib/python3.10/dist-packages (from torch>=1.8.0->spacy-transformers) (1.12)\n",
            "Requirement already satisfied: networkx in /usr/local/lib/python3.10/dist-packages (from torch>=1.8.0->spacy-transformers) (3.3)\n",
            "Requirement already satisfied: fsspec in /usr/local/lib/python3.10/dist-packages (from torch>=1.8.0->spacy-transformers) (2023.6.0)\n",
            "Requirement already satisfied: nvidia-cuda-nvrtc-cu12==12.1.105 in /usr/local/lib/python3.10/dist-packages (from torch>=1.8.0->spacy-transformers) (12.1.105)\n",
            "Requirement already satisfied: nvidia-cuda-runtime-cu12==12.1.105 in /usr/local/lib/python3.10/dist-packages (from torch>=1.8.0->spacy-transformers) (12.1.105)\n",
            "Requirement already satisfied: nvidia-cuda-cupti-cu12==12.1.105 in /usr/local/lib/python3.10/dist-packages (from torch>=1.8.0->spacy-transformers) (12.1.105)\n",
            "Requirement already satisfied: nvidia-cudnn-cu12==8.9.2.26 in /usr/local/lib/python3.10/dist-packages (from torch>=1.8.0->spacy-transformers) (8.9.2.26)\n",
            "Requirement already satisfied: nvidia-cublas-cu12==12.1.3.1 in /usr/local/lib/python3.10/dist-packages (from torch>=1.8.0->spacy-transformers) (12.1.3.1)\n",
            "Requirement already satisfied: nvidia-cufft-cu12==11.0.2.54 in /usr/local/lib/python3.10/dist-packages (from torch>=1.8.0->spacy-transformers) (11.0.2.54)\n",
            "Requirement already satisfied: nvidia-curand-cu12==10.3.2.106 in /usr/local/lib/python3.10/dist-packages (from torch>=1.8.0->spacy-transformers) (10.3.2.106)\n",
            "Requirement already satisfied: nvidia-cusolver-cu12==11.4.5.107 in /usr/local/lib/python3.10/dist-packages (from torch>=1.8.0->spacy-transformers) (11.4.5.107)\n",
            "Requirement already satisfied: nvidia-cusparse-cu12==12.1.0.106 in /usr/local/lib/python3.10/dist-packages (from torch>=1.8.0->spacy-transformers) (12.1.0.106)\n",
            "Requirement already satisfied: nvidia-nccl-cu12==2.19.3 in /usr/local/lib/python3.10/dist-packages (from torch>=1.8.0->spacy-transformers) (2.19.3)\n",
            "Requirement already satisfied: nvidia-nvtx-cu12==12.1.105 in /usr/local/lib/python3.10/dist-packages (from torch>=1.8.0->spacy-transformers) (12.1.105)\n",
            "Requirement already satisfied: triton==2.2.0 in /usr/local/lib/python3.10/dist-packages (from torch>=1.8.0->spacy-transformers) (2.2.0)\n",
            "Requirement already satisfied: nvidia-nvjitlink-cu12 in /usr/local/lib/python3.10/dist-packages (from nvidia-cusolver-cu12==11.4.5.107->torch>=1.8.0->spacy-transformers) (12.4.127)\n",
            "Requirement already satisfied: huggingface-hub<1.0,>=0.19.3 in /usr/local/lib/python3.10/dist-packages (from transformers<4.37.0,>=3.4.0->spacy-transformers) (0.20.3)\n",
            "Requirement already satisfied: pyyaml>=5.1 in /usr/local/lib/python3.10/dist-packages (from transformers<4.37.0,>=3.4.0->spacy-transformers) (6.0.1)\n",
            "Requirement already satisfied: regex!=2019.12.17 in /usr/local/lib/python3.10/dist-packages (from transformers<4.37.0,>=3.4.0->spacy-transformers) (2023.12.25)\n",
            "Requirement already satisfied: tokenizers<0.19,>=0.14 in /usr/local/lib/python3.10/dist-packages (from transformers<4.37.0,>=3.4.0->spacy-transformers) (0.15.2)\n",
            "Requirement already satisfied: safetensors>=0.3.1 in /usr/local/lib/python3.10/dist-packages (from transformers<4.37.0,>=3.4.0->spacy-transformers) (0.4.3)\n",
            "Requirement already satisfied: language-data>=1.2 in /usr/local/lib/python3.10/dist-packages (from langcodes<4.0.0,>=3.2.0->spacy<4.1.0,>=3.5.0->spacy-transformers) (1.2.0)\n",
            "Requirement already satisfied: annotated-types>=0.4.0 in /usr/local/lib/python3.10/dist-packages (from pydantic!=1.8,!=1.8.1,<3.0.0,>=1.7.4->spacy<4.1.0,>=3.5.0->spacy-transformers) (0.6.0)\n",
            "Requirement already satisfied: pydantic-core==2.18.2 in /usr/local/lib/python3.10/dist-packages (from pydantic!=1.8,!=1.8.1,<3.0.0,>=1.7.4->spacy<4.1.0,>=3.5.0->spacy-transformers) (2.18.2)\n",
            "Requirement already satisfied: charset-normalizer<4,>=2 in /usr/local/lib/python3.10/dist-packages (from requests<3.0.0,>=2.13.0->spacy<4.1.0,>=3.5.0->spacy-transformers) (3.3.2)\n",
            "Requirement already satisfied: idna<4,>=2.5 in /usr/local/lib/python3.10/dist-packages (from requests<3.0.0,>=2.13.0->spacy<4.1.0,>=3.5.0->spacy-transformers) (3.7)\n",
            "Requirement already satisfied: urllib3<3,>=1.21.1 in /usr/local/lib/python3.10/dist-packages (from requests<3.0.0,>=2.13.0->spacy<4.1.0,>=3.5.0->spacy-transformers) (2.0.7)\n",
            "Requirement already satisfied: certifi>=2017.4.17 in /usr/local/lib/python3.10/dist-packages (from requests<3.0.0,>=2.13.0->spacy<4.1.0,>=3.5.0->spacy-transformers) (2024.2.2)\n",
            "Requirement already satisfied: blis<0.8.0,>=0.7.8 in /usr/local/lib/python3.10/dist-packages (from thinc<8.3.0,>=8.2.2->spacy<4.1.0,>=3.5.0->spacy-transformers) (0.7.11)\n",
            "Requirement already satisfied: confection<1.0.0,>=0.0.1 in /usr/local/lib/python3.10/dist-packages (from thinc<8.3.0,>=8.2.2->spacy<4.1.0,>=3.5.0->spacy-transformers) (0.1.4)\n",
            "Requirement already satisfied: click<9.0.0,>=7.1.1 in /usr/local/lib/python3.10/dist-packages (from typer<0.10.0,>=0.3.0->spacy<4.1.0,>=3.5.0->spacy-transformers) (8.1.7)\n",
            "Requirement already satisfied: cloudpathlib<0.17.0,>=0.7.0 in /usr/local/lib/python3.10/dist-packages (from weasel<0.4.0,>=0.1.0->spacy<4.1.0,>=3.5.0->spacy-transformers) (0.16.0)\n",
            "Requirement already satisfied: MarkupSafe>=2.0 in /usr/local/lib/python3.10/dist-packages (from jinja2->spacy<4.1.0,>=3.5.0->spacy-transformers) (2.1.5)\n",
            "Requirement already satisfied: mpmath>=0.19 in /usr/local/lib/python3.10/dist-packages (from sympy->torch>=1.8.0->spacy-transformers) (1.3.0)\n",
            "Requirement already satisfied: marisa-trie>=0.7.7 in /usr/local/lib/python3.10/dist-packages (from language-data>=1.2->langcodes<4.0.0,>=3.2.0->spacy<4.1.0,>=3.5.0->spacy-transformers) (1.1.1)\n"
          ]
        }
      ]
    },
    {
      "cell_type": "code",
      "source": [
        "import json\n",
        "\n",
        "# Load the annotated data from a JSON file\n",
        "cv_data = json.load(open('/content/NER_apps/annotations_dataset/annotations.json','r'))\n",
        "\n",
        "# Display the number of items in the dataset\n",
        "len(cv_data)\n",
        "\n",
        "# Display the first item in the dataset\n",
        "cv_data[0]"
      ],
      "metadata": {
        "colab": {
          "base_uri": "https://localhost:8080/"
        },
        "id": "PsAjJftXAmBL",
        "outputId": "75294e96-166f-4e42-a447-a64b544fc0c7"
      },
      "execution_count": 9,
      "outputs": [
        {
          "output_type": "execute_result",
          "data": {
            "text/plain": [
              "[\"Kevin White \\r\\n587 53rd Ave. N.  \\r\\nSaint Petersburg, FL 33703 atlmapguy@gmail.com  \\r\\n(404) 274-3150 (Cell) \\r\\n \\r\\nQualifications Summary:   \\r\\nExecutive level leader, data scientist, and GIS (Geographic Information Systems) expert with proven analytical skills that support decisions in business and government.   \\r\\n \\r\\nSkills:  \\r\\n•\\tPython  \\r\\n•\\tR  \\r\\n•\\tJupyter Notebook  \\r\\n•\\tMicrosoft Azure Databricks\\r\\n•\\tDataRobot  \\r\\n•\\tAmazon Web Services (AWS)  SageMaker\\r\\n•\\tDatabricks\\r\\n•\\tDocker Desktop\\r\\n•\\tTableau\\r\\n•\\tSQL/noSQL\\r\\n•\\tContinuous Integration / Continuous Development (CI/CD)\\r\\n•\\tAgile for Data Science Teams\\r\\n•\\tFlask\\r\\n•\\tReact\\t•\\tESRI ArcGIS  \\r\\n•\\tIBM SPSS  \\r\\n•\\tStatistical Data Analysis  \\r\\n•\\tData Visualization  \\r\\n•\\teCommerce  \\r\\n•\\tBig Data  \\r\\n•\\tPredictive Modeling \\r\\n•\\tSpark/PySpark/ Apache Spark\\r\\n•\\tPower BI\\r\\n•\\tAPIs (Application Programming Interfaces)\\r\\n•\\tNatural Language Processing\\r\\n \\r\\nWork Experience:   \\r\\n07/2023–present\\tSTEMBoard. (Tampa, FL) Data Steward \\r\\n•\\tWork with USSOCOM J8 Manpower and Strategic Planning on building a machine learning document summarizer. Built four different prototype models that successfully extract text from PDFs. \\r\\n•\\tResearched and built a text corpus to train and test the text summarizer model.\\r\\n•\\tCreated a data visualization tool for the 5 years Program Objective Memorandum (POM) in Advana/Qlik and Power BI. \\r\\n•\\tAct as liaison between J8 personnel and the CDAO Data Maturity Assessments Team.\\r\\n•\\tCatalogue Special Operation Force (SOF) databases, into the Department of Defense (DoD) federated data catalogue, to identify DoD authoritative data sources.\\r\\n•\\tExplain abstract concepts, about data science, that are understandable to non-data science people.\\r\\n•\\tEnsure that SOF data sources are VAULTIS compliant:\\r\\n1. Data is Visible – Consumers can locate the needed data. \\r\\n2. Data is Accessible – Consumers can retrieve the data. \\r\\n3. Data Understandable – Consumers can recognize the content, context, and applicability. \\r\\n4. Data is Linked – Consumers can exploit data elements through innate relationships. \\r\\n5. Data is Trustworthy – Consumers can be confident in all aspects of data for decision-making. \\r\\n6. Data is Interoperable – Consumers have a common representation/ comprehension of data. \\r\\n7. Data is Secure – Consumers know that data is protected from unauthorized use/manipulation. \\r\\n\\r\\n01/2023–07/2023\\tCyberhill Partners. (Tampa, FL) Senior Data Scientist \\r\\n•\\tInvestigate and discover patterns and correlations within the Department of Transportation’s Federal Railroad Administration (FRA) accident database. Factors that drive accidents are used to build predictive models.\\r\\n•\\tPerform dimensionality reduction techniques on the FRA database. Apply principal component analysis to select variables that can be deleted in order to work with a cleaner dataset.\\r\\n•\\tBuild a geospatial dashboard, using Dash, to display the intensity of railroad disasters in relation to locations of Department of Defense installations and critical infrastructure.\\r\\n•\\tMake digital connection to the text and image training data repository for OpenAI’s CLIP (Contrastive Language–Image Pre-training) model. Adjust the model's hyperparameters, in order to determine if there are any noticeable changes to the model's output.\\r\\n•\\tBuild natural language processing topic modelers and detectors using data from open sources such as Wikipedia, Miller Project, Associated Press, Twitter, ABC News and Project Gutenberg.\\r\\n•\\tCollect scientific articles, with appending abstracts, from the PLOS.org, NIPS and arxvis.org research repositories. This is to identify trending subtopics by running the articles through unsupervised topic modelers. The methods used are Non-negative Matrix Factorization (NMF), Term Frequency–Inverse Document Frequency (TF-IDF), Bidirectional Encoder Representations from Transformers (BERT), Latent Semantic Indexing (LSI), Latent Dirichlet Allocation (LDA), Singular Value Decomposition (SVD), and Probabilistic Latent Semantic Analysis (pLSA).\\r\\n•\\tCreate and deploy functions to measure the coherence scores for the topic models. The coherence scores measure the interpretability of the topics and allow the end user to know when model parameters have been optimized.\\r\\n•\\tBuild a supervised fake news detector using news articles verified and tagged as being real or fake.\\r\\n•\\tBuild a topic modeler using the t-distributed neighbor embedding (t-SNE) visual to show how topics, of the United States presidential speeches, change over time from George Washington to Joe Biden.\\r\\n\\r\\n03/2022 –12/2022 \\tECS Tech. (Tampa, FL) Lead Data Scientist \\r\\n•\\tDevelop predictive models for military operation applications.  \\r\\n•\\tGuide team on understanding what data skills are important in supporting machine learning (ML)/ artificial intelligence (AI) models.  \\r\\n•\\tDemonstrate ML/AI models for the Command stakeholders.  \\r\\n•\\tExplain the technicalities and purposes of ML/AI projects to both technical and non-technical personnel.  \\r\\n•\\tConduct staff orientation training about Data Modernization to new hires.  \\r\\n•\\tAcquire and expand virtual staging and production servers to manage big data.  \\r\\n•\\tWrite memorandums of agreement and interconnection security agreements to build application user interfaces (API) with government partners for secure data exchanges.  \\r\\n•\\tStore large datasets in clous environments such as Microsoft Azure, Snowflake and Apache Spark.  \\r\\n•\\tBuild text classification and topic modeler using natural language processing (NLP).  \\r\\n•\\tGain knowledge of tools such as Scikit Learn, Pytorch, TensorFlow, Bert, and Spacy.  \\r\\n•\\tCoordinate the Data Council of Colonels and the Data Board of Directors for final decisions regarding data.  \\r\\n•\\tManage and update the Commanders Data Board dashboard with key tasks, milestones and meeting minutes using C2IE (Command Control Information Environment).  \\r\\n•\\tSet up and deploy ML/AI models in AWS, Jupyter Notebook, Project Maven, and DataRobot for experimentation.  \\r\\n•\\tUse Microsoft Project and Teams to break ML/AI projects into subtasks and assign to fellow team members.  \\r\\n•\\tEmploy techniques and theories drawn from mathematics, statistics, from the subdomains of machine learning, classification, cluster analysis, and data mining.  \\r\\n \\r\\n05/2013 – 03/2022 \\tBooz Allen Hamilton. (Tampa, FL) Data Scientist/Geospatial Social Science Statistical Analyst    \\r\\n•\\tProvided geospatial analysis and statistical expertise to behavioral scientists within the USSOCOM J-39 Mission Information Support Operations (MISO) branch to support MISO/GEOINT programs and objectives, assist with program assessments, and ensure scientific rigor. Identified, collected, mined, cleaned, and analyzed big data to provide knowledge and understanding of the operational environment to key leaders. \\r\\n•\\tConducted data mining tasks of preprocessing and dimension reduction.  \\r\\n•\\tUtilized data mining tools of single vector models (SVM), K-Nearest Neighbor (KNN), Decision Trees & Rules, Artificial Neural Networks (ANN), Ensemble Learning, Cluster Analysis, Association Rules, Web Mining and Text Mining.  \\r\\n•\\tCreated and integrated geospatial data layers using ArcMap 10.4.1 and ArcGIS Pro 2.5 in support of analytical and predictive modeling at sub-regional levels of geography.  \\r\\n•\\tBuilt machine learning algorithms through a combination Python, R, SPSS and of ArcGIS Geostatistical Analyst to make meaning of spatial and non-spatial data.  \\r\\n•\\tUtilized data science testing methods to evaluate which machine learning algorithms provide the greatest predictive powers.  \\r\\n•\\tDelivered geostatistical expertise on analysis of variance (ANOVA), scatterplots, stem and leaf outlier testing, A/B testing and bivariate correlation calculations.  \\r\\n•\\tMaintain ESRI ArcGIS and spatial data layers to support data integration of open-source databases and conduct geospatial and temporal analysis to discover and characterize relationships and trends.  \\r\\n•\\tDerived insightful conclusions of structured and unstructured data using datasets such as START Consortium Global Terrorism Database, Uppsala/Prio Conflict Database, World Bank, Center for Disease Control, Gallup World Polling, and U.S. National Geospatial Intelligence Agency.  \\r\\n•\\tRetrieved, normalized, and standardized multiformat data sets into geospatial systems and databases for manipulation and exploitation.  \\r\\n•\\tPerformed advanced statistical analysis in commercial and open-source environments such as Python, SPSS, R and SAS. Utilize ArcGIS extensions (e.g., Spatial Analyst, 3D Analyst and Network Analyst) to make inferential conclusions on events and their relations to population demographics, terrain, and country level economics.  \\r\\n•\\tCollected, cleaned, and imputed missing answers on Gallup World Poll survey data to segment populations into target markets. Provided descriptive statistics and histograms to behavioral scientists, regarding geospatial, demographic, and survey data, which identify predictive factors for regression models of armed conflict.  \\r\\n•\\tConfigured ArcGIS Online web applications and build Google Earth KMZ files which convey powerful mapping presentations to leadership who may be non-GIS users.  \\r\\n•\\tCreated Python and SPSS scripts which automate geoprocessing tasks and statistical computations for faster repetition.  \\r\\n•\\tConsulted published academic research to verify the viability of geospatial models supporting J39 decisions. Participated in continuing training and education to ensure proficiency with the most current trends and changes to R and SAS statistical packages.  \\r\\n•\\tCoordinated a data sharing agreement and cloud storage plan, amongst USSOCOM, USCENTCOM, Department of \\r\\nState (DOS) and ORB International, for survey data intended to improve message campaign assessments for the \\r\\nTheater Special Operations Commands (TSOC)s. Conducted Interagency visits, with the J39 Assessments Chief, \\r\\nDepartment of State Bureau of Conflict and Stabilization Operations (DOS-CSO), U.S Agency for Global Media (USAGM) and U.S. Agency for International Development (USAID), to determine better methods in implementing an enterprise solution for data sharing, which improves measures of effectiveness (MOE)s in messaging campaigns.  \\r\\n•\\tAttended the Global Engagement Center's (GEC) Technical Demonstrations to collaborate with the public and private sectors on addressing the hard problems of countering propaganda and fake news.  \\r\\n•\\tActed as data scientist for USSOCOM’s Joint MISO WebOps Center (JMWC) to leverage machine learning for the purposes of improving current methods in social media analysis.  \\r\\n•\\tCoordinated research proposals amongst MIT/Lincoln Labs, the Department of Defense Joint Artificial Intelligence Center (JAIC) and Defense Advanced Research Projects Agency (DARPA) to assess the effectiveness in binary text classification methods of analyzing target audience sentiment and detecting news misinformation and propaganda.  \\r\\n•\\tUsed Python to create Twitter APIs and web scrappers that can pull in website content into tabular formats that can be used as training data for supervised multi-text classification machine learning models.  \\r\\n•\\tConducted machine learning experiments, in text classification, on focus group transcripts, using SciKit Learn, NumPy, SciPy and Matpotlib Python modules.  \\r\\n•\\tBuilt a machine learning conflict prediction model, of the Syria AOR, which test the performance of random forest and naïve Bayes learning algorithms. Created written and oral presentations, of data findings to end users, in a professional and easily understandable format.      \\r\\n \\r\\n05/2007 – 05/2013 \\tAtlanta Public Schools (Atlanta, GA) Demographer Analyst   \\r\\n•\\tPublished quarterly demographic reports with maps, charts and narratives in order to provide Atlanta Public Schools (APS) stakeholders with actionable information on the state of the district’s population and housing dynamics.  \\r\\n•\\tPrepared long and short-term enrollment projections used to drive decisions in operations, capital budget and rezoning efforts.   \\r\\n•\\tManaged district’s enrollment, housing, demographic and attendance boundary data.  \\r\\n•\\tExpert user and training mentor of ArcGIS 10 mapping software used to delineate school attendance boundaries and illustrate how student households are spatially located throughout the district.  \\r\\n•\\tMastery of various predictive GIS extensions such as School Site Planning Suite, Signature Analyst, Edulog, Crime Analyst, and Corridor Analyst. \\r\\n•\\tEmployed periodic validation techniques to ensure data quality and integrity.  \\r\\n•\\tCreated classroom size and budget options in order to facilitate discussions on future staffing scenarios. Performed statistical analyses on factors that contribute to demographic changes using statistics software (e.g., SPSS, SAS).  \\r\\n•\\tConducted research on the effectiveness of variables that correlate to enrollment projection accuracy.  \\r\\n•\\tTest accuracy of various enrollment projection methodologies.  \\r\\n•\\tDisaggregated and queried 2010 Census data, through MS Access and SQL Server, for research projects.  \\r\\n•\\tCommunicated to APS stakeholders in a clear and concise manner about small area population dynamics and its effects on short and long-term construction projects.  \\r\\n•\\tEnsured schools are held accountable when entering student demographic and housing information into APS’s databases.  \\r\\n•\\tResearched and advised executive leadership on policies dealing with student enrollment, eligibility and privacy.  \\r\\n•\\tAssisted transportation department in school bus routing and selecting optimal bus stop locations based on demand.  \\r\\n•\\tSubject matter expert on hiring committee to recommend GIS Manager.  \\r\\n•\\tProvided oversight on commissioned studies from outside agencies.  \\r\\n•\\tServed as project manager over various studies to ensure compliance with scope, schedule, cost and quality. Used predictive regression models, in SPSS, to determine school age population 10 years into the future, based on local level population data.    \\r\\n \\r\\n05/2011 – 05/2011 \\tUS Army - NATO Training Mission - Afghanistan Coalition Project Engineer-Afghan National Army (ANA) and Afghan National Police (ANP) Deputy Chief Engineer-Army Major   \\r\\n•\\tAcquired certification in project management through the Project Management Institute CAPM (Certified Associates in Project Management).  \\r\\n•\\tAssisted Chief Engineer in providing direct support to Afghanistan Regional Command- East’s (RC-E) project engineers and operation planners.  \\r\\n•\\tPlanned, coordinated, and executed the project management duties for ANA and ANP service and construction projects and contracts throughout 14 provinces in Eastern Afghanistan.  \\r\\n•\\tAdvised and mentored 25 engineers and 3 engineering teams needing funds for construction and services in order to maintain and operate ANA and ANP training facilities.  \\r\\n•\\tProvided oversight of over 93 permanent and 120 planned construction projects valued at $1.964B.  \\r\\n•\\tBackfilled the duties of the Chief Engineer by advising higher leadership on over 110 infrastructure projects valued at $68M.   \\r\\n•\\tProvided Quality Assurance /Quality Control guidance to Contract Officer Reviewers (COR)s for infrastructure and sustainment projects in order to determine if project requirements are met by the contractor.  \\r\\n•\\tActively participated in planning procurement of construction and service statements of work (SOW) to ensure specifications are clear and concise to potential sellers.  \\r\\n•\\tExecuted a formal “make or buy” analysis for ArcGIS 10 mapping software and followed the procurement process from planning to closing.  \\r\\n•\\tPresented real time thematic maps to key leaders who must have spatial awareness of their geographic areas.  \\r\\n•\\tTook initiative in the RC-E base transfer and closure process by identifying shortfalls which were corrected and led to the successful transfer of 16 bases to the ANA and ANP.  \\r\\n•\\tAdvised senior leadership on the consequences and benefits of contract termination between vendors and the US Army Corp of Engineer (Transatlantic North District).  \\r\\n•\\tServed as Investigating Officer (IO) tasked to gather information and make corrective recommendations between a food service worker and a Contract Officer Reviewer (COR) assigned to a service contract. Investigation led to the movement of the food service worker to a different job site. Analyzed and mitigated risks associated with training personnel in austere and dangerous conditions.  \\r\\n•\\tEnsured construction data integrity through data management tools that allowed old information to be catalogued for historic references and new data to be updated from a reliable source.   \\r\\n \\r\\n05/2003 – 05/2007 \\tPulte Homes (Duluth, GA) GIS Analyst   \\r\\n•\\tCreated consumer Created consumer profiles based on questionnaire results from interviewed focus groups, using the Cluster Analysis and ANOVA tools in SPSS.  \\r\\n•\\tPerformed quantitative consumer market research by segmenting the North Georgia market in twelve different target consumer groups.  \\r\\n•\\tDesigned, planned, executed, and analyzed geographic and consumer data to ensure land acquisition specialists receive the greatest return on investment.  \\r\\n•\\tCreated consumer profiles based on questionnaire results, from interviewed focus groups, using the Cluster Analysis and ANOVA tools in SPSS Catalogued existing and future housing development into ArcGIS and Map Info and provided executive leadership with weekly reports, which illustrated the health of the north Georgia housing market.  \\r\\n•\\tProvided what-if scenarios of housing subdivision locations against aerial photos to determine market cannibalization.   \\r\\n \\r\\n10/2002 – 05/2003 \\tAtlanta Gas Light (Atlanta, GA) GIS Technician    \\r\\n•\\tTransferred as-built conduit drawings into a collective GIS database by converting drawings into TIFF files, registering the images, and drawing the lines with desktop GIS tools.  \\r\\n•\\tUpdated and verified various land and conduit attribute information to build a searchable utility database.   \\r\\n   \\r\\n07/1997 – 05/2000 \\tCharlotte-Mecklenburg Public Schools (Charlotte, NC) Science Teacher   • \\tInstructed secondary education level courses in physics, chemistry, astronomy, and general science.  \\r\\n•\\tLed the advanced placement physics and chemistry program.  \\r\\n•\\tReceived grants and funding for new science education equipment for the district. \\r\\n \\r\\n \\r\\nEducation:    \\r\\nMaster's Degree – Geography - University of North Carolina at Charlotte (05/15/2002)  \\r\\nBachelor's Degree – Science Education - East Carolina University (12/16/1996)   \\r\\nGraduate Certificate in Data Science – University of Louisville  (5/16/2022) \\r\\nU.S. Army Command and General Staff College - Fort Leavenworth, KS (06/12/14)  \\r\\nAdvanced Operators Course JPME1 - Fort Leavenworth, KS (04/26/19)   \\r\\n \\r\\nSecurity Clearance:   Current TS/SCI \\r\\n\\u2003\\r\\n\\r\\n \\r\\nRESUME OF SERVICE CAREER  \\r\\nKEVIN JOHN WHITE, Colonel, Engineer \\r\\n•\\tYEARS OF COMMISSIONED SERVICE: Over 20 years   \\r\\n•\\tTOTAL YEARS OF SERVICE: Over 15 years   \\r\\n•\\tPRESENT ASSIGNMENT: Small Group Instructor, 11/108th BN, 500 Wilshire Avenue, Concord, NC, since December 2015   \\r\\n•\\tCURRENT OCCUPATION: Geospatial Intelligence Engineer, Fulcrum IT, for USSOCOM J39, MacDill AFB, FL   • \\tMILITARY SCHOOLS ATTENDED:   \\r\\n•\\tArmor School – Basic Course Engineer School – Advanced Course\\r\\n•\\tCombined Arms Exercise (CAX) \\r\\n•\\tUnited States Intermediate Level Education (ILE) \\r\\n•\\tAdvanced Operations Course (AOC)   \\r\\n   \\r\\nEDUCATIONAL DEGREES \\r\\nEast Carolina University – BS Degree – Science Education University of   North Carolina at Charlotte – MA Degree – Geography   \\r\\n \\r\\nMAJOR DUTY ASSIGNMENTS   \\r\\nActive Duty \\r\\n•\\tDec 97-Jun 97 Student, Armor School, Fort Knox, KY   \\r\\n \\r\\nUSAR – Not on Active Duty   \\r\\n•\\tJan 97-Feb 02 \\tCompany Executive Officer/Training Officer, 3/485th Regt, High Point, NC   \\r\\n•\\tFeb 02-Feb 03  Company Commander, 1/485th Regt., Winston-Salem, NC   \\r\\n•\\tFeb 02-Dec 10  Engineer Team Chief, 1/347th Regt., Ft. Gillem, GA   \\r\\n•\\tDec 10-Aug 12 Pre deployment IRR  \\r\\n•\\tSep 12-Dec15 \\tCommunications Officer FEMA Region IV EPLO, Atlanta, GA  \\r\\n•\\tDec 15- Aug 21 Small Group Leader Intern Instructor 11/108 OES CGSC, Orlando, FL \\r\\n•\\tAug 21-present USSOCOM Chief Historian Reserve Detachment  \\r\\n \\r\\nActive Duty     \\r\\n•\\tMay 04-May 05 Observer Controller/Trainer, Team Chief, First Army, Ft. Stewart, GA \\r\\n•\\tMay 11-May12 Deputy Chief Engineer, Regional Support, Command-East Bagram Airfield, Afghanistan   \\r\\n \\r\\nIRR        \\r\\n•\\tMay 12-Aug 12 ILE \\r\\n \\r\\n \\r\\n \\r\\n \\r\\n \\r\\n \\r\\n \\r\\n \\r\\nPROMOTIONS DATES OF APPPONTMENT   \\r\\n \\r\\nRank \\tComponent \\tDate \\r\\n2LT  \\tUSAR   \\t7 Dec 96   \\r\\n1LT   \\tUSAR   \\t6 Dec 98   \\r\\nCPT   \\tUSAR   \\t17 Mar 03   \\r\\nMAJ   \\tUSAR  \\t27 Jul 09   \\r\\nLTC   \\t\\t        USAR   \\t\\t   18 Dec16   \\r\\nCOL \\t\\t\\t        USAR                                15 Aug 21 \\r\\n \\r\\n \\r\\nUS DECORATIONS AND BADGES   \\r\\n•\\tMeritorious Service Medal   \\r\\n•\\tArmy Achievement Medal (with 1 Bronze Leaf Cluster)   \\r\\n•\\tJoint Meritorious Unit award   \\r\\n•\\tArmy Reserve Component Achievement Medal (with Bronze Oak Leaf Cluster)   \\r\\n•\\tNational Defense Service Medal   \\r\\n•\\tAfghanistan Campaign Medal (with 2 Campaign Stars)   \\r\\n•\\tGlobal War on Terrorism Expeditionary Medal   \\r\\n•\\tGlobal War on Terrorism Service Medal   \\r\\n•\\tArmy Service Ribbon   \\r\\n•\\tOverseas Service Ribbon   \\r\\n•\\tArmed Forces Reserve Medal (with M Device)   \\r\\n•\\tNATO Medal   \\r\\n•\\tSOURCE OF COMMISSION ROTC (December 1996)   \\r\\n \\r\\n \\r\\n \\r\\n \\r\\n\",\n",
              " {'entities': [[0, 11, 'PERSON'],\n",
              "   [14, 60, 'ADDR'],\n",
              "   [2332, 2347, 'DATE '],\n",
              "   [2369, 2378, 'PLACE'],\n",
              "   [6234, 6251, 'DATE '],\n",
              "   [6275, 6284, 'PLACE'],\n",
              "   [16641, 16648, 'DATE '],\n",
              "   [16651, 16658, 'DATE '],\n",
              "   [16673, 16679, 'DATE '],\n",
              "   [16681, 16683, 'DATE '],\n",
              "   [17627, 17644, 'DATE '],\n",
              "   [17665, 17676, 'PLACE'],\n",
              "   [18058, 18071, 'PLACE'],\n",
              "   [18430, 18439, 'PLACE'],\n",
              "   [20390, 20405, 'PLACE'],\n",
              "   [20407, 20418, 'PLACE']]}]"
            ]
          },
          "metadata": {},
          "execution_count": 9
        }
      ]
    },
    {
      "cell_type": "code",
      "source": [
        "# Initialize spaCy configuration files by copying from base_config to config.cfg\n",
        "# !python -m spacy init fill-config /\"your_file_path\"/base_config.cfg /\"your_file_path\"/config/config.cfg\n",
        "!python -m spacy init fill-config /content/NER_apps/config/base_config.cfg /content/NER_apps/config/config.cfg"
      ],
      "metadata": {
        "colab": {
          "base_uri": "https://localhost:8080/"
        },
        "id": "rnlLC3R-XSz-",
        "outputId": "9aed5900-7706-4ad2-bd5f-67538ceb011f"
      },
      "execution_count": 10,
      "outputs": [
        {
          "output_type": "stream",
          "name": "stdout",
          "text": [
            "/usr/local/lib/python3.10/dist-packages/transformers/utils/generic.py:441: UserWarning: torch.utils._pytree._register_pytree_node is deprecated. Please use torch.utils._pytree.register_pytree_node instead.\n",
            "  _torch_pytree._register_pytree_node(\n",
            "/usr/local/lib/python3.10/dist-packages/transformers/utils/generic.py:309: UserWarning: torch.utils._pytree._register_pytree_node is deprecated. Please use torch.utils._pytree.register_pytree_node instead.\n",
            "  _torch_pytree._register_pytree_node(\n",
            "\u001b[38;5;2m✔ Auto-filled config with all values\u001b[0m\n",
            "\u001b[38;5;2m✔ Saved config\u001b[0m\n",
            "/content/NER_apps/config/config.cfg\n",
            "You can now add your data and train your pipeline:\n",
            "python -m spacy train config.cfg --paths.train ./train.spacy --paths.dev ./dev.spacy\n"
          ]
        }
      ]
    },
    {
      "cell_type": "code",
      "source": [
        "# Define a function to create spaCy DocBin objects from the annotated data\n",
        "def get_spacy_doc(file, data):\n",
        "  # Create a blank spaCy pipeline\n",
        "  nlp = spacy.blank('en')\n",
        "  db = DocBin()\n",
        "\n",
        "  # Iterate through the data\n",
        "  for text, annot in tqdm(data):\n",
        "    doc = nlp.make_doc(text)\n",
        "    annot = annot['entities']\n",
        "\n",
        "    ents = []\n",
        "    entity_indices = []\n",
        "\n",
        "    # Extract entities from the annotations\n",
        "    for start, end, label in annot:\n",
        "      skip_entity = False\n",
        "      for idx in range(start, end):\n",
        "        if idx in entity_indices:\n",
        "          skip_entity = True\n",
        "          break\n",
        "      if skip_entity:\n",
        "        continue\n",
        "\n",
        "      entity_indices = entity_indices + list(range(start, end))\n",
        "      try:\n",
        "        span = doc.char_span(start, end, label=label, alignment_mode='strict')\n",
        "      except:\n",
        "        continue\n",
        "\n",
        "      if span is None:\n",
        "        # Log errors for annotations that couldn't be processed\n",
        "        err_data = str([start, end]) + \"    \" + str(text) + \"\\n\"\n",
        "        file.write(err_data)\n",
        "      else:\n",
        "        ents.append(span)\n",
        "\n",
        "    try:\n",
        "      doc.ents = ents\n",
        "      db.add(doc)\n",
        "    except:\n",
        "      pass\n",
        "\n",
        "  return db"
      ],
      "metadata": {
        "id": "tzexqiVIH82N"
      },
      "execution_count": 11,
      "outputs": []
    },
    {
      "cell_type": "code",
      "source": [
        "import spacy\n",
        "from spacy.tokens import DocBin\n",
        "from tqdm import tqdm\n",
        "import cupy; import cupyx\n",
        "\n",
        "# Increase the size of the cv_data variable\n",
        "cv_data1=cv_data*100\n",
        "\n",
        "# Split the annotated data into training and testing sets\n",
        "from sklearn.model_selection import train_test_split\n",
        "train, test = train_test_split(cv_data1, test_size=0.2)\n",
        "\n",
        "# Display the number of items in the training and testing sets\n",
        "len(train), len(test)\n",
        "\n",
        "# Open a file to log errors during annotation processing\n",
        "file = open('/content/NER_apps/trained_models/train_file.txt','w')\n",
        "\n",
        "# Create spaCy DocBin objects for training and testing data\n",
        "db = get_spacy_doc(file, train)\n",
        "db.to_disk('/content/NER_apps/trained_models/train_data.spacy')\n",
        "\n",
        "db = get_spacy_doc(file, test)\n",
        "db.to_disk('/content/NER_apps/trained_models/test_data.spacy')\n",
        "\n",
        "# Close the error log file\n",
        "file.close()"
      ],
      "metadata": {
        "id": "D2_DmzeERqqe",
        "colab": {
          "base_uri": "https://localhost:8080/",
          "height": 903
        },
        "outputId": "946b2206-f4f2-4543-d268-00f0d3dd6af7"
      },
      "execution_count": 12,
      "outputs": [
        {
          "output_type": "error",
          "ename": "ImportError",
          "evalue": "\n================================================================\nFailed to import CuPy.\n\nIf you installed CuPy via wheels (cupy-cudaXXX or cupy-rocm-X-X), make sure that the package matches with the version of CUDA or ROCm installed.\n\nOn Linux, you may need to set LD_LIBRARY_PATH environment variable depending on how you installed CUDA/ROCm.\nOn Windows, try setting CUDA_PATH environment variable.\n\nCheck the Installation Guide for details:\n  https://docs.cupy.dev/en/latest/install.html\n\nOriginal error:\n  ImportError: libcuda.so.1: cannot open shared object file: No such file or directory\n================================================================\n",
          "traceback": [
            "\u001b[0;31m---------------------------------------------------------------------------\u001b[0m",
            "\u001b[0;31mImportError\u001b[0m                               Traceback (most recent call last)",
            "\u001b[0;32m/usr/local/lib/python3.10/dist-packages/cupy/__init__.py\u001b[0m in \u001b[0;36m<module>\u001b[0;34m\u001b[0m\n\u001b[1;32m     16\u001b[0m \u001b[0;32mtry\u001b[0m\u001b[0;34m:\u001b[0m\u001b[0;34m\u001b[0m\u001b[0;34m\u001b[0m\u001b[0m\n\u001b[0;32m---> 17\u001b[0;31m     \u001b[0;32mfrom\u001b[0m \u001b[0mcupy\u001b[0m \u001b[0;32mimport\u001b[0m \u001b[0m_core\u001b[0m  \u001b[0;31m# NOQA\u001b[0m\u001b[0;34m\u001b[0m\u001b[0;34m\u001b[0m\u001b[0m\n\u001b[0m\u001b[1;32m     18\u001b[0m \u001b[0;32mexcept\u001b[0m \u001b[0mImportError\u001b[0m \u001b[0;32mas\u001b[0m \u001b[0mexc\u001b[0m\u001b[0;34m:\u001b[0m\u001b[0;34m\u001b[0m\u001b[0;34m\u001b[0m\u001b[0m\n",
            "\u001b[0;32m/usr/local/lib/python3.10/dist-packages/cupy/_core/__init__.py\u001b[0m in \u001b[0;36m<module>\u001b[0;34m\u001b[0m\n\u001b[1;32m      2\u001b[0m \u001b[0;34m\u001b[0m\u001b[0m\n\u001b[0;32m----> 3\u001b[0;31m \u001b[0;32mfrom\u001b[0m \u001b[0mcupy\u001b[0m\u001b[0;34m.\u001b[0m\u001b[0m_core\u001b[0m \u001b[0;32mimport\u001b[0m \u001b[0mcore\u001b[0m  \u001b[0;31m# NOQA\u001b[0m\u001b[0;34m\u001b[0m\u001b[0;34m\u001b[0m\u001b[0m\n\u001b[0m\u001b[1;32m      4\u001b[0m \u001b[0;32mfrom\u001b[0m \u001b[0mcupy\u001b[0m\u001b[0;34m.\u001b[0m\u001b[0m_core\u001b[0m \u001b[0;32mimport\u001b[0m \u001b[0mfusion\u001b[0m  \u001b[0;31m# NOQA\u001b[0m\u001b[0;34m\u001b[0m\u001b[0;34m\u001b[0m\u001b[0m\n",
            "\u001b[0;31mImportError\u001b[0m: libcuda.so.1: cannot open shared object file: No such file or directory",
            "\nThe above exception was the direct cause of the following exception:\n",
            "\u001b[0;31mImportError\u001b[0m                               Traceback (most recent call last)",
            "\u001b[0;32m<ipython-input-12-fc20738417c3>\u001b[0m in \u001b[0;36m<cell line: 4>\u001b[0;34m()\u001b[0m\n\u001b[1;32m      2\u001b[0m \u001b[0;32mfrom\u001b[0m \u001b[0mspacy\u001b[0m\u001b[0;34m.\u001b[0m\u001b[0mtokens\u001b[0m \u001b[0;32mimport\u001b[0m \u001b[0mDocBin\u001b[0m\u001b[0;34m\u001b[0m\u001b[0;34m\u001b[0m\u001b[0m\n\u001b[1;32m      3\u001b[0m \u001b[0;32mfrom\u001b[0m \u001b[0mtqdm\u001b[0m \u001b[0;32mimport\u001b[0m \u001b[0mtqdm\u001b[0m\u001b[0;34m\u001b[0m\u001b[0;34m\u001b[0m\u001b[0m\n\u001b[0;32m----> 4\u001b[0;31m \u001b[0;32mimport\u001b[0m \u001b[0mcupy\u001b[0m\u001b[0;34m;\u001b[0m \u001b[0;32mimport\u001b[0m \u001b[0mcupyx\u001b[0m\u001b[0;34m\u001b[0m\u001b[0;34m\u001b[0m\u001b[0m\n\u001b[0m\u001b[1;32m      5\u001b[0m \u001b[0;34m\u001b[0m\u001b[0m\n\u001b[1;32m      6\u001b[0m \u001b[0;31m# Increase the size of the cv_data variable\u001b[0m\u001b[0;34m\u001b[0m\u001b[0;34m\u001b[0m\u001b[0m\n",
            "\u001b[0;32m/usr/local/lib/python3.10/dist-packages/cupy/__init__.py\u001b[0m in \u001b[0;36m<module>\u001b[0;34m\u001b[0m\n\u001b[1;32m     17\u001b[0m     \u001b[0;32mfrom\u001b[0m \u001b[0mcupy\u001b[0m \u001b[0;32mimport\u001b[0m \u001b[0m_core\u001b[0m  \u001b[0;31m# NOQA\u001b[0m\u001b[0;34m\u001b[0m\u001b[0;34m\u001b[0m\u001b[0m\n\u001b[1;32m     18\u001b[0m \u001b[0;32mexcept\u001b[0m \u001b[0mImportError\u001b[0m \u001b[0;32mas\u001b[0m \u001b[0mexc\u001b[0m\u001b[0;34m:\u001b[0m\u001b[0;34m\u001b[0m\u001b[0;34m\u001b[0m\u001b[0m\n\u001b[0;32m---> 19\u001b[0;31m     raise ImportError(f'''\n\u001b[0m\u001b[1;32m     20\u001b[0m \u001b[0;34m==\u001b[0m\u001b[0;34m==\u001b[0m\u001b[0;34m==\u001b[0m\u001b[0;34m==\u001b[0m\u001b[0;34m==\u001b[0m\u001b[0;34m==\u001b[0m\u001b[0;34m==\u001b[0m\u001b[0;34m==\u001b[0m\u001b[0;34m==\u001b[0m\u001b[0;34m==\u001b[0m\u001b[0;34m==\u001b[0m\u001b[0;34m==\u001b[0m\u001b[0;34m==\u001b[0m\u001b[0;34m==\u001b[0m\u001b[0;34m==\u001b[0m\u001b[0;34m==\u001b[0m\u001b[0;34m==\u001b[0m\u001b[0;34m==\u001b[0m\u001b[0;34m==\u001b[0m\u001b[0;34m==\u001b[0m\u001b[0;34m==\u001b[0m\u001b[0;34m==\u001b[0m\u001b[0;34m==\u001b[0m\u001b[0;34m==\u001b[0m\u001b[0;34m==\u001b[0m\u001b[0;34m==\u001b[0m\u001b[0;34m==\u001b[0m\u001b[0;34m==\u001b[0m\u001b[0;34m==\u001b[0m\u001b[0;34m==\u001b[0m\u001b[0;34m==\u001b[0m\u001b[0;34m==\u001b[0m\u001b[0;34m\u001b[0m\u001b[0;34m\u001b[0m\u001b[0m\n\u001b[1;32m     21\u001b[0m \u001b[0;34m{\u001b[0m\u001b[0m_environment\u001b[0m\u001b[0;34m.\u001b[0m\u001b[0m_diagnose_import_error\u001b[0m\u001b[0;34m(\u001b[0m\u001b[0;34m)\u001b[0m\u001b[0;34m}\u001b[0m\u001b[0;34m\u001b[0m\u001b[0;34m\u001b[0m\u001b[0m\n",
            "\u001b[0;31mImportError\u001b[0m: \n================================================================\nFailed to import CuPy.\n\nIf you installed CuPy via wheels (cupy-cudaXXX or cupy-rocm-X-X), make sure that the package matches with the version of CUDA or ROCm installed.\n\nOn Linux, you may need to set LD_LIBRARY_PATH environment variable depending on how you installed CUDA/ROCm.\nOn Windows, try setting CUDA_PATH environment variable.\n\nCheck the Installation Guide for details:\n  https://docs.cupy.dev/en/latest/install.html\n\nOriginal error:\n  ImportError: libcuda.so.1: cannot open shared object file: No such file or directory\n================================================================\n",
            "",
            "\u001b[0;31m---------------------------------------------------------------------------\u001b[0;32m\nNOTE: If your import is failing due to a missing package, you can\nmanually install dependencies using either !pip or !apt.\n\nTo view examples of installing some common dependencies, click the\n\"Open Examples\" button below.\n\u001b[0;31m---------------------------------------------------------------------------\u001b[0m\n"
          ],
          "errorDetails": {
            "actions": [
              {
                "action": "open_url",
                "actionText": "Open Examples",
                "url": "/notebooks/snippets/importing_libraries.ipynb"
              }
            ]
          }
        }
      ]
    },
    {
      "cell_type": "code",
      "source": [],
      "metadata": {
        "id": "6U-nkE00fBEG"
      },
      "execution_count": null,
      "outputs": []
    },
    {
      "cell_type": "code",
      "source": [
        "# Train a spaCy NER model using the provided configuration and data\n",
        "!python -m spacy train /content/NER_apps/config/config.cfg  --output /content/NER_apps/trained_models/output --paths.dev /content/NER_apps/trained_models/test_data.spacy --gpu-id 0"
      ],
      "metadata": {
        "id": "3_0viMr8bwa-"
      },
      "execution_count": null,
      "outputs": []
    },
    {
      "cell_type": "markdown",
      "source": [
        "# New Section"
      ],
      "metadata": {
        "id": "E4TJX7mxB5J0"
      }
    }
  ]
}